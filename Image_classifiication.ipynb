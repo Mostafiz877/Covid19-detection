{
 "cells": [
  {
   "cell_type": "code",
   "execution_count": 40,
   "metadata": {},
   "outputs": [],
   "source": [
    "import pandas as pd\n",
    "import os\n",
    "import shutil"
   ]
  },
  {
   "cell_type": "code",
   "execution_count": 41,
   "metadata": {},
   "outputs": [],
   "source": [
    " FILE_PATH = \"chestxray/metadata.csv\""
   ]
  },
  {
   "cell_type": "code",
   "execution_count": 42,
   "metadata": {},
   "outputs": [],
   "source": [
    "IMAGES_PATH = \"chestxray/images\""
   ]
  },
  {
   "cell_type": "code",
   "execution_count": 43,
   "metadata": {},
   "outputs": [],
   "source": [
    "df = pd.read_csv(FILE_PATH)"
   ]
  },
  {
   "cell_type": "code",
   "execution_count": 44,
   "metadata": {},
   "outputs": [
    {
     "data": {
      "text/plain": [
       "(950, 30)"
      ]
     },
     "execution_count": 44,
     "metadata": {},
     "output_type": "execute_result"
    }
   ],
   "source": [
    "df.shape"
   ]
  },
  {
   "cell_type": "code",
   "execution_count": 45,
   "metadata": {},
   "outputs": [
    {
     "data": {
      "text/html": [
       "<div>\n",
       "<style scoped>\n",
       "    .dataframe tbody tr th:only-of-type {\n",
       "        vertical-align: middle;\n",
       "    }\n",
       "\n",
       "    .dataframe tbody tr th {\n",
       "        vertical-align: top;\n",
       "    }\n",
       "\n",
       "    .dataframe thead th {\n",
       "        text-align: right;\n",
       "    }\n",
       "</style>\n",
       "<table border=\"1\" class=\"dataframe\">\n",
       "  <thead>\n",
       "    <tr style=\"text-align: right;\">\n",
       "      <th></th>\n",
       "      <th>patientid</th>\n",
       "      <th>offset</th>\n",
       "      <th>sex</th>\n",
       "      <th>age</th>\n",
       "      <th>finding</th>\n",
       "      <th>RT_PCR_positive</th>\n",
       "      <th>survival</th>\n",
       "      <th>intubated</th>\n",
       "      <th>intubation_present</th>\n",
       "      <th>went_icu</th>\n",
       "      <th>...</th>\n",
       "      <th>date</th>\n",
       "      <th>location</th>\n",
       "      <th>folder</th>\n",
       "      <th>filename</th>\n",
       "      <th>doi</th>\n",
       "      <th>url</th>\n",
       "      <th>license</th>\n",
       "      <th>clinical_notes</th>\n",
       "      <th>other_notes</th>\n",
       "      <th>Unnamed: 29</th>\n",
       "    </tr>\n",
       "  </thead>\n",
       "  <tbody>\n",
       "    <tr>\n",
       "      <th>0</th>\n",
       "      <td>2</td>\n",
       "      <td>0.0</td>\n",
       "      <td>M</td>\n",
       "      <td>65.0</td>\n",
       "      <td>Pneumonia/Viral/COVID-19</td>\n",
       "      <td>Y</td>\n",
       "      <td>Y</td>\n",
       "      <td>N</td>\n",
       "      <td>N</td>\n",
       "      <td>N</td>\n",
       "      <td>...</td>\n",
       "      <td>January 22, 2020</td>\n",
       "      <td>Cho Ray Hospital, Ho Chi Minh City, Vietnam</td>\n",
       "      <td>images</td>\n",
       "      <td>auntminnie-a-2020_01_28_23_51_6665_2020_01_28_...</td>\n",
       "      <td>10.1056/nejmc2001272</td>\n",
       "      <td>https://www.nejm.org/doi/full/10.1056/NEJMc200...</td>\n",
       "      <td>NaN</td>\n",
       "      <td>On January 22, 2020, a 65-year-old man with a ...</td>\n",
       "      <td>NaN</td>\n",
       "      <td>NaN</td>\n",
       "    </tr>\n",
       "    <tr>\n",
       "      <th>1</th>\n",
       "      <td>2</td>\n",
       "      <td>3.0</td>\n",
       "      <td>M</td>\n",
       "      <td>65.0</td>\n",
       "      <td>Pneumonia/Viral/COVID-19</td>\n",
       "      <td>Y</td>\n",
       "      <td>Y</td>\n",
       "      <td>N</td>\n",
       "      <td>N</td>\n",
       "      <td>N</td>\n",
       "      <td>...</td>\n",
       "      <td>January 25, 2020</td>\n",
       "      <td>Cho Ray Hospital, Ho Chi Minh City, Vietnam</td>\n",
       "      <td>images</td>\n",
       "      <td>auntminnie-b-2020_01_28_23_51_6665_2020_01_28_...</td>\n",
       "      <td>10.1056/nejmc2001272</td>\n",
       "      <td>https://www.nejm.org/doi/full/10.1056/NEJMc200...</td>\n",
       "      <td>NaN</td>\n",
       "      <td>On January 22, 2020, a 65-year-old man with a ...</td>\n",
       "      <td>NaN</td>\n",
       "      <td>NaN</td>\n",
       "    </tr>\n",
       "    <tr>\n",
       "      <th>2</th>\n",
       "      <td>2</td>\n",
       "      <td>5.0</td>\n",
       "      <td>M</td>\n",
       "      <td>65.0</td>\n",
       "      <td>Pneumonia/Viral/COVID-19</td>\n",
       "      <td>Y</td>\n",
       "      <td>Y</td>\n",
       "      <td>N</td>\n",
       "      <td>N</td>\n",
       "      <td>N</td>\n",
       "      <td>...</td>\n",
       "      <td>January 27, 2020</td>\n",
       "      <td>Cho Ray Hospital, Ho Chi Minh City, Vietnam</td>\n",
       "      <td>images</td>\n",
       "      <td>auntminnie-c-2020_01_28_23_51_6665_2020_01_28_...</td>\n",
       "      <td>10.1056/nejmc2001272</td>\n",
       "      <td>https://www.nejm.org/doi/full/10.1056/NEJMc200...</td>\n",
       "      <td>NaN</td>\n",
       "      <td>On January 22, 2020, a 65-year-old man with a ...</td>\n",
       "      <td>NaN</td>\n",
       "      <td>NaN</td>\n",
       "    </tr>\n",
       "    <tr>\n",
       "      <th>3</th>\n",
       "      <td>2</td>\n",
       "      <td>6.0</td>\n",
       "      <td>M</td>\n",
       "      <td>65.0</td>\n",
       "      <td>Pneumonia/Viral/COVID-19</td>\n",
       "      <td>Y</td>\n",
       "      <td>Y</td>\n",
       "      <td>N</td>\n",
       "      <td>N</td>\n",
       "      <td>N</td>\n",
       "      <td>...</td>\n",
       "      <td>January 28, 2020</td>\n",
       "      <td>Cho Ray Hospital, Ho Chi Minh City, Vietnam</td>\n",
       "      <td>images</td>\n",
       "      <td>auntminnie-d-2020_01_28_23_51_6665_2020_01_28_...</td>\n",
       "      <td>10.1056/nejmc2001272</td>\n",
       "      <td>https://www.nejm.org/doi/full/10.1056/NEJMc200...</td>\n",
       "      <td>NaN</td>\n",
       "      <td>On January 22, 2020, a 65-year-old man with a ...</td>\n",
       "      <td>NaN</td>\n",
       "      <td>NaN</td>\n",
       "    </tr>\n",
       "    <tr>\n",
       "      <th>4</th>\n",
       "      <td>4</td>\n",
       "      <td>0.0</td>\n",
       "      <td>F</td>\n",
       "      <td>52.0</td>\n",
       "      <td>Pneumonia/Viral/COVID-19</td>\n",
       "      <td>Y</td>\n",
       "      <td>NaN</td>\n",
       "      <td>N</td>\n",
       "      <td>N</td>\n",
       "      <td>N</td>\n",
       "      <td>...</td>\n",
       "      <td>January 25, 2020</td>\n",
       "      <td>Changhua Christian Hospital, Changhua City, Ta...</td>\n",
       "      <td>images</td>\n",
       "      <td>nejmc2001573_f1a.jpeg</td>\n",
       "      <td>10.1056/NEJMc2001573</td>\n",
       "      <td>https://www.nejm.org/doi/full/10.1056/NEJMc200...</td>\n",
       "      <td>NaN</td>\n",
       "      <td>diffuse infiltrates in the bilateral lower lungs</td>\n",
       "      <td>NaN</td>\n",
       "      <td>NaN</td>\n",
       "    </tr>\n",
       "    <tr>\n",
       "      <th>...</th>\n",
       "      <td>...</td>\n",
       "      <td>...</td>\n",
       "      <td>...</td>\n",
       "      <td>...</td>\n",
       "      <td>...</td>\n",
       "      <td>...</td>\n",
       "      <td>...</td>\n",
       "      <td>...</td>\n",
       "      <td>...</td>\n",
       "      <td>...</td>\n",
       "      <td>...</td>\n",
       "      <td>...</td>\n",
       "      <td>...</td>\n",
       "      <td>...</td>\n",
       "      <td>...</td>\n",
       "      <td>...</td>\n",
       "      <td>...</td>\n",
       "      <td>...</td>\n",
       "      <td>...</td>\n",
       "      <td>...</td>\n",
       "      <td>...</td>\n",
       "    </tr>\n",
       "    <tr>\n",
       "      <th>945</th>\n",
       "      <td>479</td>\n",
       "      <td>0.0</td>\n",
       "      <td>F</td>\n",
       "      <td>40.0</td>\n",
       "      <td>Pneumonia</td>\n",
       "      <td>NaN</td>\n",
       "      <td>NaN</td>\n",
       "      <td>NaN</td>\n",
       "      <td>NaN</td>\n",
       "      <td>NaN</td>\n",
       "      <td>...</td>\n",
       "      <td>NaN</td>\n",
       "      <td>United Kingdom</td>\n",
       "      <td>images</td>\n",
       "      <td>072ecaf8c60a81980abb57150a8016_jumbo-9.jpeg</td>\n",
       "      <td>NaN</td>\n",
       "      <td>https://radiopaedia.org/cases/multifocal-round...</td>\n",
       "      <td>CC BY-NC-SA</td>\n",
       "      <td>Asthmatic. Shortness of breath and wheeze. Rou...</td>\n",
       "      <td>Case courtesy of Dr Ian Bickle, Radiopaedia.or...</td>\n",
       "      <td>NaN</td>\n",
       "    </tr>\n",
       "    <tr>\n",
       "      <th>946</th>\n",
       "      <td>479</td>\n",
       "      <td>70.0</td>\n",
       "      <td>F</td>\n",
       "      <td>40.0</td>\n",
       "      <td>Pneumonia</td>\n",
       "      <td>NaN</td>\n",
       "      <td>NaN</td>\n",
       "      <td>NaN</td>\n",
       "      <td>NaN</td>\n",
       "      <td>NaN</td>\n",
       "      <td>...</td>\n",
       "      <td>NaN</td>\n",
       "      <td>United Kingdom</td>\n",
       "      <td>images</td>\n",
       "      <td>ff33c406392b968d483174c97eb857_jumbo-9.jpeg</td>\n",
       "      <td>NaN</td>\n",
       "      <td>https://radiopaedia.org/cases/multifocal-round...</td>\n",
       "      <td>CC BY-NC-SA</td>\n",
       "      <td>Asthmatic. Shortness of breath and wheeze. The...</td>\n",
       "      <td>Case courtesy of Dr Ian Bickle, Radiopaedia.or...</td>\n",
       "      <td>NaN</td>\n",
       "    </tr>\n",
       "    <tr>\n",
       "      <th>947</th>\n",
       "      <td>480</td>\n",
       "      <td>NaN</td>\n",
       "      <td>M</td>\n",
       "      <td>26.0</td>\n",
       "      <td>Pneumonia</td>\n",
       "      <td>NaN</td>\n",
       "      <td>NaN</td>\n",
       "      <td>NaN</td>\n",
       "      <td>NaN</td>\n",
       "      <td>NaN</td>\n",
       "      <td>...</td>\n",
       "      <td>NaN</td>\n",
       "      <td>NaN</td>\n",
       "      <td>images</td>\n",
       "      <td>000001-266.jpg</td>\n",
       "      <td>NaN</td>\n",
       "      <td>https://www.eurorad.org/case/947</td>\n",
       "      <td>CC BY-NC-SA 4.0</td>\n",
       "      <td>fire-eater accidentally ingested a paraffin mi...</td>\n",
       "      <td>NaN</td>\n",
       "      <td>NaN</td>\n",
       "    </tr>\n",
       "    <tr>\n",
       "      <th>948</th>\n",
       "      <td>481</td>\n",
       "      <td>NaN</td>\n",
       "      <td>M</td>\n",
       "      <td>50.0</td>\n",
       "      <td>Pneumonia</td>\n",
       "      <td>NaN</td>\n",
       "      <td>NaN</td>\n",
       "      <td>NaN</td>\n",
       "      <td>NaN</td>\n",
       "      <td>NaN</td>\n",
       "      <td>...</td>\n",
       "      <td>NaN</td>\n",
       "      <td>NaN</td>\n",
       "      <td>images</td>\n",
       "      <td>000001-272.jpg</td>\n",
       "      <td>NaN</td>\n",
       "      <td>https://www.eurorad.org/case/934</td>\n",
       "      <td>CC BY-NC-SA 4.0</td>\n",
       "      <td>The patient, a heavy smoker, was referred to t...</td>\n",
       "      <td>NaN</td>\n",
       "      <td>NaN</td>\n",
       "    </tr>\n",
       "    <tr>\n",
       "      <th>949</th>\n",
       "      <td>481</td>\n",
       "      <td>NaN</td>\n",
       "      <td>M</td>\n",
       "      <td>50.0</td>\n",
       "      <td>Pneumonia</td>\n",
       "      <td>NaN</td>\n",
       "      <td>NaN</td>\n",
       "      <td>NaN</td>\n",
       "      <td>NaN</td>\n",
       "      <td>NaN</td>\n",
       "      <td>...</td>\n",
       "      <td>NaN</td>\n",
       "      <td>NaN</td>\n",
       "      <td>images</td>\n",
       "      <td>000002-268.jpg</td>\n",
       "      <td>NaN</td>\n",
       "      <td>https://www.eurorad.org/case/934</td>\n",
       "      <td>CC BY-NC-SA 4.0</td>\n",
       "      <td>The patient, a heavy smoker, was referred to t...</td>\n",
       "      <td>NaN</td>\n",
       "      <td>NaN</td>\n",
       "    </tr>\n",
       "  </tbody>\n",
       "</table>\n",
       "<p>950 rows × 30 columns</p>\n",
       "</div>"
      ],
      "text/plain": [
       "    patientid  offset sex   age                   finding RT_PCR_positive  \\\n",
       "0           2     0.0   M  65.0  Pneumonia/Viral/COVID-19               Y   \n",
       "1           2     3.0   M  65.0  Pneumonia/Viral/COVID-19               Y   \n",
       "2           2     5.0   M  65.0  Pneumonia/Viral/COVID-19               Y   \n",
       "3           2     6.0   M  65.0  Pneumonia/Viral/COVID-19               Y   \n",
       "4           4     0.0   F  52.0  Pneumonia/Viral/COVID-19               Y   \n",
       "..        ...     ...  ..   ...                       ...             ...   \n",
       "945       479     0.0   F  40.0                 Pneumonia             NaN   \n",
       "946       479    70.0   F  40.0                 Pneumonia             NaN   \n",
       "947       480     NaN   M  26.0                 Pneumonia             NaN   \n",
       "948       481     NaN   M  50.0                 Pneumonia             NaN   \n",
       "949       481     NaN   M  50.0                 Pneumonia             NaN   \n",
       "\n",
       "    survival intubated intubation_present went_icu  ...              date  \\\n",
       "0          Y         N                  N        N  ...  January 22, 2020   \n",
       "1          Y         N                  N        N  ...  January 25, 2020   \n",
       "2          Y         N                  N        N  ...  January 27, 2020   \n",
       "3          Y         N                  N        N  ...  January 28, 2020   \n",
       "4        NaN         N                  N        N  ...  January 25, 2020   \n",
       "..       ...       ...                ...      ...  ...               ...   \n",
       "945      NaN       NaN                NaN      NaN  ...               NaN   \n",
       "946      NaN       NaN                NaN      NaN  ...               NaN   \n",
       "947      NaN       NaN                NaN      NaN  ...               NaN   \n",
       "948      NaN       NaN                NaN      NaN  ...               NaN   \n",
       "949      NaN       NaN                NaN      NaN  ...               NaN   \n",
       "\n",
       "                                              location  folder  \\\n",
       "0          Cho Ray Hospital, Ho Chi Minh City, Vietnam  images   \n",
       "1          Cho Ray Hospital, Ho Chi Minh City, Vietnam  images   \n",
       "2          Cho Ray Hospital, Ho Chi Minh City, Vietnam  images   \n",
       "3          Cho Ray Hospital, Ho Chi Minh City, Vietnam  images   \n",
       "4    Changhua Christian Hospital, Changhua City, Ta...  images   \n",
       "..                                                 ...     ...   \n",
       "945                                     United Kingdom  images   \n",
       "946                                     United Kingdom  images   \n",
       "947                                                NaN  images   \n",
       "948                                                NaN  images   \n",
       "949                                                NaN  images   \n",
       "\n",
       "                                              filename                   doi  \\\n",
       "0    auntminnie-a-2020_01_28_23_51_6665_2020_01_28_...  10.1056/nejmc2001272   \n",
       "1    auntminnie-b-2020_01_28_23_51_6665_2020_01_28_...  10.1056/nejmc2001272   \n",
       "2    auntminnie-c-2020_01_28_23_51_6665_2020_01_28_...  10.1056/nejmc2001272   \n",
       "3    auntminnie-d-2020_01_28_23_51_6665_2020_01_28_...  10.1056/nejmc2001272   \n",
       "4                                nejmc2001573_f1a.jpeg  10.1056/NEJMc2001573   \n",
       "..                                                 ...                   ...   \n",
       "945        072ecaf8c60a81980abb57150a8016_jumbo-9.jpeg                   NaN   \n",
       "946        ff33c406392b968d483174c97eb857_jumbo-9.jpeg                   NaN   \n",
       "947                                     000001-266.jpg                   NaN   \n",
       "948                                     000001-272.jpg                   NaN   \n",
       "949                                     000002-268.jpg                   NaN   \n",
       "\n",
       "                                                   url          license  \\\n",
       "0    https://www.nejm.org/doi/full/10.1056/NEJMc200...              NaN   \n",
       "1    https://www.nejm.org/doi/full/10.1056/NEJMc200...              NaN   \n",
       "2    https://www.nejm.org/doi/full/10.1056/NEJMc200...              NaN   \n",
       "3    https://www.nejm.org/doi/full/10.1056/NEJMc200...              NaN   \n",
       "4    https://www.nejm.org/doi/full/10.1056/NEJMc200...              NaN   \n",
       "..                                                 ...              ...   \n",
       "945  https://radiopaedia.org/cases/multifocal-round...      CC BY-NC-SA   \n",
       "946  https://radiopaedia.org/cases/multifocal-round...      CC BY-NC-SA   \n",
       "947                   https://www.eurorad.org/case/947  CC BY-NC-SA 4.0   \n",
       "948                   https://www.eurorad.org/case/934  CC BY-NC-SA 4.0   \n",
       "949                   https://www.eurorad.org/case/934  CC BY-NC-SA 4.0   \n",
       "\n",
       "                                        clinical_notes  \\\n",
       "0    On January 22, 2020, a 65-year-old man with a ...   \n",
       "1    On January 22, 2020, a 65-year-old man with a ...   \n",
       "2    On January 22, 2020, a 65-year-old man with a ...   \n",
       "3    On January 22, 2020, a 65-year-old man with a ...   \n",
       "4     diffuse infiltrates in the bilateral lower lungs   \n",
       "..                                                 ...   \n",
       "945  Asthmatic. Shortness of breath and wheeze. Rou...   \n",
       "946  Asthmatic. Shortness of breath and wheeze. The...   \n",
       "947  fire-eater accidentally ingested a paraffin mi...   \n",
       "948  The patient, a heavy smoker, was referred to t...   \n",
       "949  The patient, a heavy smoker, was referred to t...   \n",
       "\n",
       "                                           other_notes Unnamed: 29  \n",
       "0                                                  NaN         NaN  \n",
       "1                                                  NaN         NaN  \n",
       "2                                                  NaN         NaN  \n",
       "3                                                  NaN         NaN  \n",
       "4                                                  NaN         NaN  \n",
       "..                                                 ...         ...  \n",
       "945  Case courtesy of Dr Ian Bickle, Radiopaedia.or...         NaN  \n",
       "946  Case courtesy of Dr Ian Bickle, Radiopaedia.or...         NaN  \n",
       "947                                                NaN         NaN  \n",
       "948                                                NaN         NaN  \n",
       "949                                                NaN         NaN  \n",
       "\n",
       "[950 rows x 30 columns]"
      ]
     },
     "execution_count": 45,
     "metadata": {},
     "output_type": "execute_result"
    }
   ],
   "source": [
    "df"
   ]
  },
  {
   "cell_type": "code",
   "execution_count": 51,
   "metadata": {},
   "outputs": [],
   "source": [
    "TARGET_DIR = \"Dataset/Covid\""
   ]
  },
  {
   "cell_type": "code",
   "execution_count": 52,
   "metadata": {},
   "outputs": [],
   "source": [
    "if not os.path.exists(TRAGET_DIR):\n",
    "    os.mkdir(TRAGET_DIR)"
   ]
  },
  {
   "cell_type": "code",
   "execution_count": 53,
   "metadata": {},
   "outputs": [
    {
     "data": {
      "text/plain": [
       "371"
      ]
     },
     "execution_count": 53,
     "metadata": {},
     "output_type": "execute_result"
    }
   ],
   "source": [
    "(df['RT_PCR_positive']== \"Y\").sum()"
   ]
  },
  {
   "cell_type": "code",
   "execution_count": 55,
   "metadata": {},
   "outputs": [],
   "source": [
    "cnt = 0\n",
    "for (i,row) in df.iterrows():\n",
    "    if row['RT_PCR_positive'] == \"Y\" and row[\"view\"] == \"PA\":\n",
    "        filename = row['filename']\n",
    "        image_path = os.path.join(IMAGES_PATH,filename)\n",
    "        image_copy_path  = os.path.join(TARGET_DIR,filename)\n",
    "        shutil.copy2(image_path,image_copy_path)\n",
    "#         print(\"Moving image \",cnt)\n",
    "        cnt+=1"
   ]
  },
  {
   "cell_type": "code",
   "execution_count": 37,
   "metadata": {},
   "outputs": [
    {
     "data": {
      "text/plain": [
       "116"
      ]
     },
     "execution_count": 37,
     "metadata": {},
     "output_type": "execute_result"
    }
   ],
   "source": [
    "cnt"
   ]
  },
  {
   "cell_type": "code",
   "execution_count": 56,
   "metadata": {},
   "outputs": [],
   "source": [
    "import random"
   ]
  },
  {
   "cell_type": "code",
   "execution_count": 60,
   "metadata": {},
   "outputs": [],
   "source": [
    "KAGGLE_FILE_PATH = 'chest_xray_kaggle/train/NORMAL'"
   ]
  },
  {
   "cell_type": "code",
   "execution_count": 61,
   "metadata": {},
   "outputs": [],
   "source": [
    "TARGET_NORMAL_DIR  = \"Dataset/Normal\""
   ]
  },
  {
   "cell_type": "code",
   "execution_count": 69,
   "metadata": {},
   "outputs": [],
   "source": [
    "image_names = os.listdir(KAGGLE_FILE_PATH)"
   ]
  },
  {
   "cell_type": "code",
   "execution_count": 70,
   "metadata": {},
   "outputs": [],
   "source": [
    "random.shuffle(image_names)"
   ]
  },
  {
   "cell_type": "code",
   "execution_count": 75,
   "metadata": {},
   "outputs": [
    {
     "name": "stdout",
     "output_type": "stream",
     "text": [
      "target_path ==  0\n",
      "target_path ==  1\n",
      "target_path ==  2\n",
      "target_path ==  3\n",
      "target_path ==  4\n",
      "target_path ==  5\n",
      "target_path ==  6\n",
      "target_path ==  7\n",
      "target_path ==  8\n",
      "target_path ==  9\n",
      "target_path ==  10\n",
      "target_path ==  11\n",
      "target_path ==  12\n",
      "target_path ==  13\n",
      "target_path ==  14\n",
      "target_path ==  15\n",
      "target_path ==  16\n",
      "target_path ==  17\n",
      "target_path ==  18\n",
      "target_path ==  19\n",
      "target_path ==  20\n",
      "target_path ==  21\n",
      "target_path ==  22\n",
      "target_path ==  23\n",
      "target_path ==  24\n",
      "target_path ==  25\n",
      "target_path ==  26\n",
      "target_path ==  27\n",
      "target_path ==  28\n",
      "target_path ==  29\n",
      "target_path ==  30\n",
      "target_path ==  31\n",
      "target_path ==  32\n",
      "target_path ==  33\n",
      "target_path ==  34\n",
      "target_path ==  35\n",
      "target_path ==  36\n",
      "target_path ==  37\n",
      "target_path ==  38\n",
      "target_path ==  39\n",
      "target_path ==  40\n",
      "target_path ==  41\n",
      "target_path ==  42\n",
      "target_path ==  43\n",
      "target_path ==  44\n",
      "target_path ==  45\n",
      "target_path ==  46\n",
      "target_path ==  47\n",
      "target_path ==  48\n",
      "target_path ==  49\n",
      "target_path ==  50\n",
      "target_path ==  51\n",
      "target_path ==  52\n",
      "target_path ==  53\n",
      "target_path ==  54\n",
      "target_path ==  55\n",
      "target_path ==  56\n",
      "target_path ==  57\n",
      "target_path ==  58\n",
      "target_path ==  59\n",
      "target_path ==  60\n",
      "target_path ==  61\n",
      "target_path ==  62\n",
      "target_path ==  63\n",
      "target_path ==  64\n",
      "target_path ==  65\n",
      "target_path ==  66\n",
      "target_path ==  67\n",
      "target_path ==  68\n",
      "target_path ==  69\n",
      "target_path ==  70\n",
      "target_path ==  71\n",
      "target_path ==  72\n",
      "target_path ==  73\n",
      "target_path ==  74\n",
      "target_path ==  75\n",
      "target_path ==  76\n",
      "target_path ==  77\n",
      "target_path ==  78\n",
      "target_path ==  79\n",
      "target_path ==  80\n",
      "target_path ==  81\n",
      "target_path ==  82\n",
      "target_path ==  83\n",
      "target_path ==  84\n",
      "target_path ==  85\n",
      "target_path ==  86\n",
      "target_path ==  87\n",
      "target_path ==  88\n",
      "target_path ==  89\n",
      "target_path ==  90\n",
      "target_path ==  91\n",
      "target_path ==  92\n",
      "target_path ==  93\n",
      "target_path ==  94\n",
      "target_path ==  95\n",
      "target_path ==  96\n",
      "target_path ==  97\n",
      "target_path ==  98\n",
      "target_path ==  99\n",
      "target_path ==  100\n",
      "target_path ==  101\n",
      "target_path ==  102\n",
      "target_path ==  103\n",
      "target_path ==  104\n",
      "target_path ==  105\n",
      "target_path ==  106\n",
      "target_path ==  107\n",
      "target_path ==  108\n",
      "target_path ==  109\n",
      "target_path ==  110\n",
      "target_path ==  111\n",
      "target_path ==  112\n",
      "target_path ==  113\n",
      "target_path ==  114\n",
      "target_path ==  115\n"
     ]
    }
   ],
   "source": [
    "for i in range (116):\n",
    "    image_name =image_names[i]\n",
    "#     print(image_name)\n",
    "    image_path = os.path.join(KAGGLE_FILE_PATH,image_name)\n",
    "    target_path = os.path.join(TARGET_NORMAL_DIR,image_name)\n",
    "    shutil.copy2(image_path,target_path)\n",
    "    print(\"target_path == \",i)\n",
    "    "
   ]
  },
  {
   "cell_type": "code",
   "execution_count": 80,
   "metadata": {},
   "outputs": [],
   "source": [
    "import numpy as np\n",
    "import matplotlib.pyplot as plt\n",
    "import keras\n",
    "from keras.layers import *\n",
    "from keras.models import *\n",
    "from keras.preprocessing import image"
   ]
  },
  {
   "cell_type": "code",
   "execution_count": 102,
   "metadata": {},
   "outputs": [],
   "source": [
    "model = Sequential()"
   ]
  },
  {
   "cell_type": "code",
   "execution_count": 103,
   "metadata": {},
   "outputs": [],
   "source": [
    "model.add(Conv2D(32,kernel_size=(3,3),activation = 'relu', input_shape=(224,224,3)))"
   ]
  },
  {
   "cell_type": "code",
   "execution_count": 104,
   "metadata": {},
   "outputs": [],
   "source": [
    "model.add(Conv2D(64,(3,3), activation = 'relu'))"
   ]
  },
  {
   "cell_type": "code",
   "execution_count": 105,
   "metadata": {},
   "outputs": [],
   "source": [
    "model.add(MaxPooling2D(pool_size=(2,2)))"
   ]
  },
  {
   "cell_type": "code",
   "execution_count": 106,
   "metadata": {},
   "outputs": [],
   "source": [
    "model.add(Dropout(0.25))"
   ]
  },
  {
   "cell_type": "code",
   "execution_count": 107,
   "metadata": {},
   "outputs": [],
   "source": [
    "model.add(Conv2D(64,(3,3), activation = 'relu'))\n",
    "model.add(MaxPooling2D(pool_size=(2,2)))\n",
    "model.add(Dropout(0.25))\n"
   ]
  },
  {
   "cell_type": "code",
   "execution_count": 108,
   "metadata": {},
   "outputs": [],
   "source": [
    "model.add(Conv2D(128,(3,3), activation = 'relu'))"
   ]
  },
  {
   "cell_type": "code",
   "execution_count": 109,
   "metadata": {},
   "outputs": [],
   "source": [
    "model.add(MaxPooling2D(pool_size=(2,2)))"
   ]
  },
  {
   "cell_type": "code",
   "execution_count": 110,
   "metadata": {},
   "outputs": [],
   "source": [
    "model.add(Dropout(0.25))"
   ]
  },
  {
   "cell_type": "code",
   "execution_count": 111,
   "metadata": {},
   "outputs": [],
   "source": [
    "model.add(Flatten())"
   ]
  },
  {
   "cell_type": "code",
   "execution_count": 112,
   "metadata": {},
   "outputs": [],
   "source": [
    "model.add(Dense(64, activation = 'relu'))"
   ]
  },
  {
   "cell_type": "code",
   "execution_count": 113,
   "metadata": {},
   "outputs": [],
   "source": [
    "model.add(Dropout(0.5))"
   ]
  },
  {
   "cell_type": "code",
   "execution_count": 114,
   "metadata": {},
   "outputs": [],
   "source": [
    "model.add(Dense(1, activation = 'sigmoid'))"
   ]
  },
  {
   "cell_type": "code",
   "execution_count": 115,
   "metadata": {},
   "outputs": [],
   "source": [
    "model.compile(loss=keras.losses.binary_crossentropy, optimizer = 'adam', metrics = ['accuracy'])"
   ]
  },
  {
   "cell_type": "code",
   "execution_count": 116,
   "metadata": {},
   "outputs": [
    {
     "name": "stdout",
     "output_type": "stream",
     "text": [
      "Model: \"sequential_1\"\n",
      "_________________________________________________________________\n",
      " Layer (type)                Output Shape              Param #   \n",
      "=================================================================\n",
      " conv2d_6 (Conv2D)           (None, 222, 222, 32)      896       \n",
      "                                                                 \n",
      " conv2d_7 (Conv2D)           (None, 220, 220, 64)      18496     \n",
      "                                                                 \n",
      " max_pooling2d_2 (MaxPooling  (None, 110, 110, 64)     0         \n",
      " 2D)                                                             \n",
      "                                                                 \n",
      " dropout_3 (Dropout)         (None, 110, 110, 64)      0         \n",
      "                                                                 \n",
      " conv2d_8 (Conv2D)           (None, 108, 108, 64)      36928     \n",
      "                                                                 \n",
      " max_pooling2d_3 (MaxPooling  (None, 54, 54, 64)       0         \n",
      " 2D)                                                             \n",
      "                                                                 \n",
      " dropout_4 (Dropout)         (None, 54, 54, 64)        0         \n",
      "                                                                 \n",
      " conv2d_9 (Conv2D)           (None, 52, 52, 128)       73856     \n",
      "                                                                 \n",
      " max_pooling2d_4 (MaxPooling  (None, 26, 26, 128)      0         \n",
      " 2D)                                                             \n",
      "                                                                 \n",
      " dropout_5 (Dropout)         (None, 26, 26, 128)       0         \n",
      "                                                                 \n",
      " flatten_1 (Flatten)         (None, 86528)             0         \n",
      "                                                                 \n",
      " dense_2 (Dense)             (None, 64)                5537856   \n",
      "                                                                 \n",
      " dropout_6 (Dropout)         (None, 64)                0         \n",
      "                                                                 \n",
      " dense_3 (Dense)             (None, 1)                 65        \n",
      "                                                                 \n",
      "=================================================================\n",
      "Total params: 5,668,097\n",
      "Trainable params: 5,668,097\n",
      "Non-trainable params: 0\n",
      "_________________________________________________________________\n"
     ]
    }
   ],
   "source": [
    "model.summary()"
   ]
  },
  {
   "cell_type": "code",
   "execution_count": 117,
   "metadata": {},
   "outputs": [],
   "source": [
    "train_datagen = image.ImageDataGenerator(\n",
    "    rescale = 1./255,\n",
    "    shear_range = 0.2,\n",
    "    zoom_range = 0.2,\n",
    "    horizontal_flip = True,\n",
    ")"
   ]
  },
  {
   "cell_type": "code",
   "execution_count": 118,
   "metadata": {},
   "outputs": [],
   "source": [
    "test_dataset = image.ImageDataGenerator(rescale=1./255)"
   ]
  },
  {
   "cell_type": "code",
   "execution_count": 124,
   "metadata": {},
   "outputs": [
    {
     "name": "stdout",
     "output_type": "stream",
     "text": [
      "Found 232 images belonging to 2 classes.\n"
     ]
    }
   ],
   "source": [
    "train_generator = train_datagen.flow_from_directory(\n",
    "    'CovidDataset/Train',\n",
    "    target_size = (224,224),\n",
    "    batch_size = 32,\n",
    "    class_mode = 'binary'\n",
    ")"
   ]
  },
  {
   "cell_type": "code",
   "execution_count": 125,
   "metadata": {},
   "outputs": [
    {
     "data": {
      "text/plain": [
       "{'Covid': 0, 'Normal': 1}"
      ]
     },
     "execution_count": 125,
     "metadata": {},
     "output_type": "execute_result"
    }
   ],
   "source": [
    "train_generator.class_indices"
   ]
  },
  {
   "cell_type": "code",
   "execution_count": 128,
   "metadata": {},
   "outputs": [
    {
     "name": "stdout",
     "output_type": "stream",
     "text": [
      "Found 200 images belonging to 2 classes.\n"
     ]
    }
   ],
   "source": [
    "validation_generator = test_dataset.flow_from_directory(\n",
    "    'CovidDataset/Val',\n",
    "    target_size = (224,224),\n",
    "    batch_size = 32,\n",
    "    class_mode = 'binary'\n",
    ")"
   ]
  },
  {
   "cell_type": "code",
   "execution_count": 129,
   "metadata": {},
   "outputs": [
    {
     "data": {
      "text/plain": [
       "{'Covid': 0, 'Normal': 1}"
      ]
     },
     "execution_count": 129,
     "metadata": {},
     "output_type": "execute_result"
    }
   ],
   "source": [
    "validation_generator.class_indices"
   ]
  },
  {
   "cell_type": "code",
   "execution_count": 131,
   "metadata": {},
   "outputs": [
    {
     "name": "stderr",
     "output_type": "stream",
     "text": [
      "<ipython-input-131-b47b89a01d9b>:1: UserWarning: `Model.fit_generator` is deprecated and will be removed in a future version. Please use `Model.fit`, which supports generators.\n",
      "  hist  = model.fit_generator(\n"
     ]
    },
    {
     "name": "stdout",
     "output_type": "stream",
     "text": [
      "Epoch 1/10\n",
      "8/8 [==============================] - 77s 9s/step - loss: 0.7385 - accuracy: 0.5000 - val_loss: 0.6909 - val_accuracy: 0.5156\n",
      "Epoch 2/10\n",
      "8/8 [==============================] - 70s 10s/step - loss: 0.6944 - accuracy: 0.5043 - val_loss: 0.6896 - val_accuracy: 0.5312\n",
      "Epoch 3/10\n",
      "8/8 [==============================] - 71s 9s/step - loss: 0.6798 - accuracy: 0.6250 - val_loss: 0.6787 - val_accuracy: 0.7344\n",
      "Epoch 4/10\n",
      "8/8 [==============================] - 70s 8s/step - loss: 0.6562 - accuracy: 0.6293 - val_loss: 0.6300 - val_accuracy: 0.5469\n",
      "Epoch 5/10\n",
      "8/8 [==============================] - 51s 6s/step - loss: 0.5789 - accuracy: 0.6767 - val_loss: 0.4525 - val_accuracy: 0.9375\n",
      "Epoch 6/10\n",
      "8/8 [==============================] - 76s 10s/step - loss: 0.5059 - accuracy: 0.7543 - val_loss: 0.4794 - val_accuracy: 0.7500\n",
      "Epoch 7/10\n",
      "8/8 [==============================] - 73s 9s/step - loss: 0.5600 - accuracy: 0.7112 - val_loss: 0.4914 - val_accuracy: 0.7969\n",
      "Epoch 8/10\n",
      "8/8 [==============================] - 75s 9s/step - loss: 0.4768 - accuracy: 0.8103 - val_loss: 0.3907 - val_accuracy: 0.8750\n",
      "Epoch 9/10\n",
      "8/8 [==============================] - 75s 9s/step - loss: 0.4070 - accuracy: 0.8319 - val_loss: 0.2511 - val_accuracy: 0.9219\n",
      "Epoch 10/10\n",
      "8/8 [==============================] - 70s 8s/step - loss: 0.4449 - accuracy: 0.8103 - val_loss: 0.2852 - val_accuracy: 0.9219\n"
     ]
    }
   ],
   "source": [
    "hist  = model.fit_generator(\n",
    " train_generator,\n",
    " steps_per_epoch = 8,\n",
    "    epochs = 10,\n",
    "    validation_data  = validation_generator,\n",
    "    validation_steps = 2\n",
    ")"
   ]
  },
  {
   "cell_type": "code",
   "execution_count": null,
   "metadata": {},
   "outputs": [],
   "source": []
  }
 ],
 "metadata": {
  "kernelspec": {
   "display_name": "Python 3",
   "language": "python",
   "name": "python3"
  },
  "language_info": {
   "codemirror_mode": {
    "name": "ipython",
    "version": 3
   },
   "file_extension": ".py",
   "mimetype": "text/x-python",
   "name": "python",
   "nbconvert_exporter": "python",
   "pygments_lexer": "ipython3",
   "version": "3.8.8"
  }
 },
 "nbformat": 4,
 "nbformat_minor": 2
}
